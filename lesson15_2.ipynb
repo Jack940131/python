{
 "cells": [
  {
   "cell_type": "code",
   "execution_count": 1,
   "metadata": {},
   "outputs": [
    {
     "data": {
      "text/plain": [
       "[3, 7, 11, 15, 19]"
      ]
     },
     "execution_count": 1,
     "metadata": {},
     "output_type": "execute_result"
    }
   ],
   "source": [
    "#建立list\n",
    "a = [1, 3, 5, 7, 9]\n",
    "a * 2\n",
    "\n",
    "b = [2, 4, 6, 8 ,10]\n",
    "a + b\n",
    "\n",
    "result = []\n",
    "for i in range(5):\n",
    "    result.append(a[i] + b[i])\n",
    "\n",
    "result"
   ]
  },
  {
   "cell_type": "code",
   "execution_count": 2,
   "metadata": {},
   "outputs": [
    {
     "data": {
      "text/plain": [
       "array([ 3,  7, 11, 15, 19])"
      ]
     },
     "execution_count": 2,
     "metadata": {},
     "output_type": "execute_result"
    }
   ],
   "source": [
    "import numpy as np\n",
    "\n",
    "#透過list建立ndArray\n",
    "\n",
    "a_array = np.array([1, 3, 5, 7, 9])\n",
    "a_array * 2\n",
    "\n",
    "b_array = np.array([2, 4, 6, 8 ,10])\n",
    "\n",
    "a_array + b_array"
   ]
  },
  {
   "cell_type": "code",
   "execution_count": 3,
   "metadata": {},
   "outputs": [
    {
     "data": {
      "text/plain": [
       "[60, 75, 69, 76, 89]"
      ]
     },
     "execution_count": 3,
     "metadata": {},
     "output_type": "execute_result"
    }
   ],
   "source": [
    "#使用python建立5個亂數元素的list\n",
    "import random\n",
    "\n",
    "#list comprehension\n",
    "[random.randint(50,100) for _ in range(5)]"
   ]
  },
  {
   "cell_type": "code",
   "execution_count": 4,
   "metadata": {},
   "outputs": [
    {
     "data": {
      "text/plain": [
       "array([75, 98, 93, 95, 59])"
      ]
     },
     "execution_count": 4,
     "metadata": {},
     "output_type": "execute_result"
    }
   ],
   "source": [
    "#使用numpy random 建立亂數\n",
    "import numpy as np\n",
    "np.random.randint(50,high=100,size=5)"
   ]
  },
  {
   "cell_type": "code",
   "execution_count": 5,
   "metadata": {},
   "outputs": [
    {
     "data": {
      "text/plain": [
       "array([[81, 50, 70, 57, 79],\n",
       "       [75, 59, 89, 56, 97],\n",
       "       [89, 78, 70, 83, 51],\n",
       "       [56, 66, 57, 54, 89],\n",
       "       [57, 73, 55, 53, 53],\n",
       "       [50, 59, 53, 88, 69],\n",
       "       [81, 52, 51, 96, 61],\n",
       "       [80, 94, 55, 74, 91],\n",
       "       [77, 87, 50, 79, 78],\n",
       "       [92, 94, 76, 94, 88],\n",
       "       [52, 91, 58, 83, 83],\n",
       "       [68, 56, 78, 81, 78],\n",
       "       [90, 95, 78, 76, 57],\n",
       "       [71, 90, 93, 84, 99],\n",
       "       [97, 79, 89, 72, 52],\n",
       "       [59, 50, 74, 94, 59],\n",
       "       [95, 72, 73, 54, 52],\n",
       "       [61, 51, 85, 78, 53],\n",
       "       [98, 97, 91, 74, 91],\n",
       "       [94, 62, 57, 59, 68],\n",
       "       [59, 62, 80, 93, 72],\n",
       "       [99, 62, 72, 81, 91],\n",
       "       [87, 84, 54, 71, 76],\n",
       "       [64, 70, 66, 62, 92],\n",
       "       [60, 61, 79, 81, 90],\n",
       "       [58, 67, 90, 64, 71],\n",
       "       [94, 72, 90, 95, 54],\n",
       "       [69, 97, 68, 86, 90],\n",
       "       [73, 64, 98, 72, 66],\n",
       "       [68, 70, 59, 59, 99],\n",
       "       [87, 71, 74, 95, 77],\n",
       "       [81, 59, 73, 77, 65],\n",
       "       [70, 94, 75, 65, 91],\n",
       "       [72, 81, 69, 85, 89],\n",
       "       [58, 78, 56, 98, 62],\n",
       "       [66, 89, 83, 93, 58],\n",
       "       [91, 98, 82, 64, 50],\n",
       "       [71, 91, 51, 70, 72],\n",
       "       [88, 51, 85, 89, 70],\n",
       "       [84, 82, 76, 90, 67],\n",
       "       [87, 98, 83, 60, 74],\n",
       "       [98, 69, 98, 62, 86],\n",
       "       [99, 52, 76, 82, 92],\n",
       "       [62, 84, 51, 55, 91],\n",
       "       [72, 98, 54, 86, 91],\n",
       "       [50, 87, 76, 69, 72],\n",
       "       [65, 59, 78, 95, 57],\n",
       "       [77, 99, 91, 79, 54],\n",
       "       [60, 72, 64, 67, 70],\n",
       "       [99, 59, 74, 77, 66]])"
      ]
     },
     "execution_count": 5,
     "metadata": {},
     "output_type": "execute_result"
    }
   ],
   "source": [
    "np.random.randint(50,high=100,size=(50, 5))"
   ]
  }
 ],
 "metadata": {
  "kernelspec": {
   "display_name": "Python 3",
   "language": "python",
   "name": "python3"
  },
  "language_info": {
   "codemirror_mode": {
    "name": "ipython",
    "version": 3
   },
   "file_extension": ".py",
   "mimetype": "text/x-python",
   "name": "python",
   "nbconvert_exporter": "python",
   "pygments_lexer": "ipython3",
   "version": "3.10.12"
  },
  "orig_nbformat": 4
 },
 "nbformat": 4,
 "nbformat_minor": 2
}
