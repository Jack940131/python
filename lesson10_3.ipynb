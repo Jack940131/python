{
 "cells": [
  {
   "cell_type": "code",
   "execution_count": 1,
   "metadata": {},
   "outputs": [
    {
     "data": {
      "text/plain": [
       "([79, 92, 68, 75, 65], [78, 95, 68, 72, 65], [72, 91, 69, 71, 62])"
      ]
     },
     "execution_count": 1,
     "metadata": {},
     "output_type": "execute_result"
    }
   ],
   "source": [
    "#2維list\n",
    "students = [[79, 92, 68, 75, 65],\n",
    "            [78, 95, 68, 72, 65],\n",
    "            [72, 91, 69, 71, 62]]\n",
    "students[0] , students[1], students[2]"
   ]
  },
  {
   "cell_type": "code",
   "execution_count": 5,
   "metadata": {},
   "outputs": [
    {
     "data": {
      "text/plain": [
       "[[86, 81, 93, 80, 51],\n",
       " [50, 79, 62, 71, 77],\n",
       " [88, 99, 73, 99, 59],\n",
       " [61, 75, 74, 64, 100],\n",
       " [87, 66, 71, 96, 67],\n",
       " [88, 72, 77, 80, 62],\n",
       " [53, 73, 71, 84, 73],\n",
       " [67, 64, 93, 71, 87],\n",
       " [55, 64, 69, 62, 53],\n",
       " [73, 53, 98, 60, 67],\n",
       " [98, 74, 55, 91, 80],\n",
       " [94, 82, 88, 77, 75],\n",
       " [82, 66, 82, 79, 98],\n",
       " [67, 93, 63, 98, 98],\n",
       " [89, 93, 79, 66, 86],\n",
       " [76, 54, 90, 86, 76],\n",
       " [56, 66, 84, 66, 63],\n",
       " [68, 78, 97, 74, 68],\n",
       " [80, 67, 55, 74, 87],\n",
       " [73, 64, 82, 96, 80],\n",
       " [87, 82, 52, 70, 56],\n",
       " [51, 100, 54, 61, 94],\n",
       " [75, 59, 84, 83, 57],\n",
       " [65, 63, 85, 79, 59],\n",
       " [100, 93, 83, 87, 80],\n",
       " [78, 64, 82, 51, 68],\n",
       " [71, 60, 90, 62, 76],\n",
       " [99, 58, 53, 83, 60],\n",
       " [60, 79, 82, 63, 75],\n",
       " [78, 75, 53, 59, 96],\n",
       " [54, 80, 60, 87, 94],\n",
       " [95, 52, 94, 88, 64],\n",
       " [51, 78, 62, 62, 98],\n",
       " [82, 99, 71, 85, 91],\n",
       " [68, 59, 80, 58, 91],\n",
       " [96, 53, 80, 67, 54],\n",
       " [98, 87, 53, 77, 70],\n",
       " [63, 97, 78, 85, 56],\n",
       " [73, 51, 66, 59, 59],\n",
       " [53, 74, 61, 52, 54],\n",
       " [86, 73, 69, 70, 93],\n",
       " [98, 74, 98, 50, 59],\n",
       " [62, 100, 59, 59, 73],\n",
       " [77, 59, 55, 69, 92],\n",
       " [61, 50, 56, 99, 68],\n",
       " [91, 96, 64, 70, 73],\n",
       " [67, 74, 93, 81, 93],\n",
       " [73, 61, 94, 57, 52],\n",
       " [58, 99, 63, 70, 66],\n",
       " [82, 92, 70, 67, 54]]"
      ]
     },
     "execution_count": 5,
     "metadata": {},
     "output_type": "execute_result"
    }
   ],
   "source": [
    "import random\n",
    "def get_score() -> list:\n",
    "    score = []\n",
    "    for i in range(5):\n",
    "        score.append(random.randint(50, 100))\n",
    "    return score\n",
    "\n",
    "students = []\n",
    "for i in range(50):\n",
    "    scores = get_score()\n",
    "    students.append(scores)\n",
    "students\n"
   ]
  }
 ],
 "metadata": {
  "kernelspec": {
   "display_name": "Python 3",
   "language": "python",
   "name": "python3"
  },
  "language_info": {
   "codemirror_mode": {
    "name": "ipython",
    "version": 3
   },
   "file_extension": ".py",
   "mimetype": "text/x-python",
   "name": "python",
   "nbconvert_exporter": "python",
   "pygments_lexer": "ipython3",
   "version": "3.10.12"
  },
  "orig_nbformat": 4
 },
 "nbformat": 4,
 "nbformat_minor": 2
}
