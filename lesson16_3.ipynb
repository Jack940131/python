{
 "cells": [
  {
   "cell_type": "code",
   "execution_count": 1,
   "metadata": {},
   "outputs": [
    {
     "ename": "ModuleNotFoundError",
     "evalue": "No module named 'pandas'",
     "output_type": "error",
     "traceback": [
      "\u001b[0;31m---------------------------------------------------------------------------\u001b[0m",
      "\u001b[0;31mModuleNotFoundError\u001b[0m                       Traceback (most recent call last)",
      "Cell \u001b[0;32mIn[1], line 3\u001b[0m\n\u001b[1;32m      1\u001b[0m \u001b[39m#DataFrame\u001b[39;00m\n\u001b[1;32m      2\u001b[0m \u001b[39m#dictionary\u001b[39;00m\n\u001b[0;32m----> 3\u001b[0m \u001b[39mimport\u001b[39;00m \u001b[39mpandas\u001b[39;00m \u001b[39mas\u001b[39;00m \u001b[39mpd\u001b[39;00m\n\u001b[1;32m      4\u001b[0m data \u001b[39m=\u001b[39m {\n\u001b[1;32m      5\u001b[0m     \u001b[39m'\u001b[39m\u001b[39m縣市\u001b[39m\u001b[39m'\u001b[39m:[\u001b[39m'\u001b[39m\u001b[39m台北\u001b[39m\u001b[39m'\u001b[39m,\u001b[39m'\u001b[39m\u001b[39m台北\u001b[39m\u001b[39m'\u001b[39m,\u001b[39m'\u001b[39m\u001b[39m台北\u001b[39m\u001b[39m'\u001b[39m, \u001b[39m'\u001b[39m\u001b[39m新竹\u001b[39m\u001b[39m'\u001b[39m, \u001b[39m'\u001b[39m\u001b[39m新竹\u001b[39m\u001b[39m'\u001b[39m, \u001b[39m'\u001b[39m\u001b[39m新竹\u001b[39m\u001b[39m'\u001b[39m],\n\u001b[1;32m      6\u001b[0m     \u001b[39m'\u001b[39m\u001b[39m年份\u001b[39m\u001b[39m'\u001b[39m:[\u001b[39m2000\u001b[39m, \u001b[39m2001\u001b[39m, \u001b[39m2002\u001b[39m, \u001b[39m2001\u001b[39m, \u001b[39m2002\u001b[39m, \u001b[39m2003\u001b[39m],\n\u001b[1;32m      7\u001b[0m     \u001b[39m'\u001b[39m\u001b[39m人口\u001b[39m\u001b[39m'\u001b[39m:[\u001b[39m2.2\u001b[39m, \u001b[39m2.5\u001b[39m, \u001b[39m2.7\u001b[39m, \u001b[39m1.1\u001b[39m, \u001b[39m1.5\u001b[39m, \u001b[39m2.0\u001b[39m]\n\u001b[1;32m      8\u001b[0m }\n\u001b[1;32m     10\u001b[0m frame \u001b[39m=\u001b[39m pd\u001b[39m.\u001b[39mDataFrame(data)\n",
      "\u001b[0;31mModuleNotFoundError\u001b[0m: No module named 'pandas'"
     ]
    }
   ],
   "source": [
    "#DataFrame\n",
    "#dictionary\n",
    "import pandas as pd\n",
    "data = {\n",
    "    '縣市':['台北','台北','台北', '新竹', '新竹', '新竹'],\n",
    "    '年份':[2000, 2001, 2002, 2001, 2002, 2003],\n",
    "    '人口':[2.2, 2.5, 2.7, 1.1, 1.5, 2.0]\n",
    "}\n",
    "\n",
    "frame = pd.DataFrame(data)\n",
    "frame"
   ]
  },
  {
   "cell_type": "code",
   "execution_count": 3,
   "metadata": {},
   "outputs": [
    {
     "ename": "NameError",
     "evalue": "name 'pd' is not defined",
     "output_type": "error",
     "traceback": [
      "\u001b[0;31m---------------------------------------------------------------------------\u001b[0m",
      "\u001b[0;31mNameError\u001b[0m                                 Traceback (most recent call last)",
      "Cell \u001b[0;32mIn[3], line 13\u001b[0m\n\u001b[1;32m      1\u001b[0m \u001b[39m#DataFrame\u001b[39;00m\n\u001b[1;32m      2\u001b[0m \u001b[39m#List\u001b[39;00m\n\u001b[1;32m      4\u001b[0m data \u001b[39m=\u001b[39m [\n\u001b[1;32m      5\u001b[0m     {\u001b[39m'\u001b[39m\u001b[39m縣市\u001b[39m\u001b[39m'\u001b[39m:\u001b[39m'\u001b[39m\u001b[39m台北\u001b[39m\u001b[39m'\u001b[39m,\u001b[39m'\u001b[39m\u001b[39m年份\u001b[39m\u001b[39m'\u001b[39m:\u001b[39m2000\u001b[39m,\u001b[39m'\u001b[39m\u001b[39m人口\u001b[39m\u001b[39m'\u001b[39m:\u001b[39m2.0\u001b[39m},\n\u001b[1;32m      6\u001b[0m     {\u001b[39m'\u001b[39m\u001b[39m縣市\u001b[39m\u001b[39m'\u001b[39m:\u001b[39m'\u001b[39m\u001b[39m台北\u001b[39m\u001b[39m'\u001b[39m,\u001b[39m'\u001b[39m\u001b[39m年份\u001b[39m\u001b[39m'\u001b[39m:\u001b[39m2001\u001b[39m,\u001b[39m'\u001b[39m\u001b[39m人口\u001b[39m\u001b[39m'\u001b[39m:\u001b[39m2.5\u001b[39m},\n\u001b[0;32m   (...)\u001b[0m\n\u001b[1;32m     10\u001b[0m     {\u001b[39m'\u001b[39m\u001b[39m縣市\u001b[39m\u001b[39m'\u001b[39m:\u001b[39m'\u001b[39m\u001b[39m新竹\u001b[39m\u001b[39m'\u001b[39m,\u001b[39m'\u001b[39m\u001b[39m年份\u001b[39m\u001b[39m'\u001b[39m:\u001b[39m2003\u001b[39m,\u001b[39m'\u001b[39m\u001b[39m人口\u001b[39m\u001b[39m'\u001b[39m:\u001b[39m2.0\u001b[39m}\n\u001b[1;32m     11\u001b[0m ]\n\u001b[0;32m---> 13\u001b[0m frame1 \u001b[39m=\u001b[39m pd\u001b[39m.\u001b[39mDataFrame(data)\n\u001b[1;32m     14\u001b[0m frame1\n",
      "\u001b[0;31mNameError\u001b[0m: name 'pd' is not defined"
     ]
    }
   ],
   "source": [
    "#DataFrame\n",
    "#List\n",
    "\n",
    "data = [\n",
    "    {'縣市':'台北','年份':2000,'人口':2.0},\n",
    "    {'縣市':'台北','年份':2001,'人口':2.5},\n",
    "    {'縣市':'台北','年份':2002,'人口':2.7},\n",
    "    {'縣市':'新竹','年份':2001,'人口':1.1},\n",
    "    {'縣市':'新竹','年份':2002,'人口':1.5},\n",
    "    {'縣市':'新竹','年份':2003,'人口':2.0}\n",
    "]\n",
    "\n",
    "frame1 = pd.DataFrame(data)\n",
    "frame1"
   ]
  }
 ],
 "metadata": {
  "kernelspec": {
   "display_name": "Python 3",
   "language": "python",
   "name": "python3"
  },
  "language_info": {
   "codemirror_mode": {
    "name": "ipython",
    "version": 3
   },
   "file_extension": ".py",
   "mimetype": "text/x-python",
   "name": "python",
   "nbconvert_exporter": "python",
   "pygments_lexer": "ipython3",
   "version": "3.10.12"
  },
  "orig_nbformat": 4
 },
 "nbformat": 4,
 "nbformat_minor": 2
}
